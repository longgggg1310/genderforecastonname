{
  "nbformat": 4,
  "nbformat_minor": 0,
  "metadata": {
    "colab": {
      "name": "Untitled4.ipynb",
      "provenance": [],
      "collapsed_sections": []
    },
    "kernelspec": {
      "name": "python3",
      "display_name": "Python 3"
    },
    "language_info": {
      "name": "python"
    }
  },
  "cells": [
    {
      "cell_type": "code",
      "execution_count": 143,
      "metadata": {
        "id": "uDhbk2wLxzb1"
      },
      "outputs": [],
      "source": [
        "from __future__ import print_function\n",
        "\n",
        "from sklearn.preprocessing import OneHotEncoder\n",
        "from keras.layers.core import Dense, Activation, Dropout\n",
        "from keras.preprocessing import sequence\n",
        "from keras.models import Sequential\n",
        "from keras.layers import Dense, Embedding\n",
        "from keras.layers import LSTM\n",
        "from keras.datasets import imdb\n",
        "import pandas as pd\n",
        "import numpy as np\n",
        "import os"
      ]
    },
    {
      "cell_type": "code",
      "source": [
        "maxlen = 30\n",
        "labels = 2\n"
      ],
      "metadata": {
        "id": "RuE9ywfCx6C0"
      },
      "execution_count": 144,
      "outputs": []
    },
    {
      "cell_type": "code",
      "source": [
        "input = pd.read_csv(\"final_data.csv\")\n"
      ],
      "metadata": {
        "id": "0-WxWyavx6-y"
      },
      "execution_count": 145,
      "outputs": []
    },
    {
      "cell_type": "code",
      "source": [
        "input"
      ],
      "metadata": {
        "colab": {
          "base_uri": "https://localhost:8080/",
          "height": 424
        },
        "id": "i84SYTDqx8cS",
        "outputId": "79ff2319-eed4-4e5b-fa22-07a12de22d42"
      },
      "execution_count": 146,
      "outputs": [
        {
          "output_type": "execute_result",
          "data": {
            "text/plain": [
              "       Unnamed: 0                  Name Gender\n",
              "0               0      dương phương mai      f\n",
              "1               1      dương phương nam      m\n",
              "2               2      dương quang minh      m\n",
              "3               3      dương quang vinh      m\n",
              "4               4      dương quốc khánh      m\n",
              "...           ...                   ...    ...\n",
              "63768       63768   nguyễn thị thúy ưng      f\n",
              "63769       63769   nguyễn đức anh linh      m\n",
              "63770       63770  nguyễn thị thục oanh      f\n",
              "63771       63771  nguyễn thị vân huyền      f\n",
              "63772       63772  nguyễn thị xuân oanh      f\n",
              "\n",
              "[63773 rows x 3 columns]"
            ],
            "text/html": [
              "\n",
              "  <div id=\"df-813bc235-5b52-45ab-b063-08989afcbbe5\">\n",
              "    <div class=\"colab-df-container\">\n",
              "      <div>\n",
              "<style scoped>\n",
              "    .dataframe tbody tr th:only-of-type {\n",
              "        vertical-align: middle;\n",
              "    }\n",
              "\n",
              "    .dataframe tbody tr th {\n",
              "        vertical-align: top;\n",
              "    }\n",
              "\n",
              "    .dataframe thead th {\n",
              "        text-align: right;\n",
              "    }\n",
              "</style>\n",
              "<table border=\"1\" class=\"dataframe\">\n",
              "  <thead>\n",
              "    <tr style=\"text-align: right;\">\n",
              "      <th></th>\n",
              "      <th>Unnamed: 0</th>\n",
              "      <th>Name</th>\n",
              "      <th>Gender</th>\n",
              "    </tr>\n",
              "  </thead>\n",
              "  <tbody>\n",
              "    <tr>\n",
              "      <th>0</th>\n",
              "      <td>0</td>\n",
              "      <td>dương phương mai</td>\n",
              "      <td>f</td>\n",
              "    </tr>\n",
              "    <tr>\n",
              "      <th>1</th>\n",
              "      <td>1</td>\n",
              "      <td>dương phương nam</td>\n",
              "      <td>m</td>\n",
              "    </tr>\n",
              "    <tr>\n",
              "      <th>2</th>\n",
              "      <td>2</td>\n",
              "      <td>dương quang minh</td>\n",
              "      <td>m</td>\n",
              "    </tr>\n",
              "    <tr>\n",
              "      <th>3</th>\n",
              "      <td>3</td>\n",
              "      <td>dương quang vinh</td>\n",
              "      <td>m</td>\n",
              "    </tr>\n",
              "    <tr>\n",
              "      <th>4</th>\n",
              "      <td>4</td>\n",
              "      <td>dương quốc khánh</td>\n",
              "      <td>m</td>\n",
              "    </tr>\n",
              "    <tr>\n",
              "      <th>...</th>\n",
              "      <td>...</td>\n",
              "      <td>...</td>\n",
              "      <td>...</td>\n",
              "    </tr>\n",
              "    <tr>\n",
              "      <th>63768</th>\n",
              "      <td>63768</td>\n",
              "      <td>nguyễn thị thúy ưng</td>\n",
              "      <td>f</td>\n",
              "    </tr>\n",
              "    <tr>\n",
              "      <th>63769</th>\n",
              "      <td>63769</td>\n",
              "      <td>nguyễn đức anh linh</td>\n",
              "      <td>m</td>\n",
              "    </tr>\n",
              "    <tr>\n",
              "      <th>63770</th>\n",
              "      <td>63770</td>\n",
              "      <td>nguyễn thị thục oanh</td>\n",
              "      <td>f</td>\n",
              "    </tr>\n",
              "    <tr>\n",
              "      <th>63771</th>\n",
              "      <td>63771</td>\n",
              "      <td>nguyễn thị vân huyền</td>\n",
              "      <td>f</td>\n",
              "    </tr>\n",
              "    <tr>\n",
              "      <th>63772</th>\n",
              "      <td>63772</td>\n",
              "      <td>nguyễn thị xuân oanh</td>\n",
              "      <td>f</td>\n",
              "    </tr>\n",
              "  </tbody>\n",
              "</table>\n",
              "<p>63773 rows × 3 columns</p>\n",
              "</div>\n",
              "      <button class=\"colab-df-convert\" onclick=\"convertToInteractive('df-813bc235-5b52-45ab-b063-08989afcbbe5')\"\n",
              "              title=\"Convert this dataframe to an interactive table.\"\n",
              "              style=\"display:none;\">\n",
              "        \n",
              "  <svg xmlns=\"http://www.w3.org/2000/svg\" height=\"24px\"viewBox=\"0 0 24 24\"\n",
              "       width=\"24px\">\n",
              "    <path d=\"M0 0h24v24H0V0z\" fill=\"none\"/>\n",
              "    <path d=\"M18.56 5.44l.94 2.06.94-2.06 2.06-.94-2.06-.94-.94-2.06-.94 2.06-2.06.94zm-11 1L8.5 8.5l.94-2.06 2.06-.94-2.06-.94L8.5 2.5l-.94 2.06-2.06.94zm10 10l.94 2.06.94-2.06 2.06-.94-2.06-.94-.94-2.06-.94 2.06-2.06.94z\"/><path d=\"M17.41 7.96l-1.37-1.37c-.4-.4-.92-.59-1.43-.59-.52 0-1.04.2-1.43.59L10.3 9.45l-7.72 7.72c-.78.78-.78 2.05 0 2.83L4 21.41c.39.39.9.59 1.41.59.51 0 1.02-.2 1.41-.59l7.78-7.78 2.81-2.81c.8-.78.8-2.07 0-2.86zM5.41 20L4 18.59l7.72-7.72 1.47 1.35L5.41 20z\"/>\n",
              "  </svg>\n",
              "      </button>\n",
              "      \n",
              "  <style>\n",
              "    .colab-df-container {\n",
              "      display:flex;\n",
              "      flex-wrap:wrap;\n",
              "      gap: 12px;\n",
              "    }\n",
              "\n",
              "    .colab-df-convert {\n",
              "      background-color: #E8F0FE;\n",
              "      border: none;\n",
              "      border-radius: 50%;\n",
              "      cursor: pointer;\n",
              "      display: none;\n",
              "      fill: #1967D2;\n",
              "      height: 32px;\n",
              "      padding: 0 0 0 0;\n",
              "      width: 32px;\n",
              "    }\n",
              "\n",
              "    .colab-df-convert:hover {\n",
              "      background-color: #E2EBFA;\n",
              "      box-shadow: 0px 1px 2px rgba(60, 64, 67, 0.3), 0px 1px 3px 1px rgba(60, 64, 67, 0.15);\n",
              "      fill: #174EA6;\n",
              "    }\n",
              "\n",
              "    [theme=dark] .colab-df-convert {\n",
              "      background-color: #3B4455;\n",
              "      fill: #D2E3FC;\n",
              "    }\n",
              "\n",
              "    [theme=dark] .colab-df-convert:hover {\n",
              "      background-color: #434B5C;\n",
              "      box-shadow: 0px 1px 3px 1px rgba(0, 0, 0, 0.15);\n",
              "      filter: drop-shadow(0px 1px 2px rgba(0, 0, 0, 0.3));\n",
              "      fill: #FFFFFF;\n",
              "    }\n",
              "  </style>\n",
              "\n",
              "      <script>\n",
              "        const buttonEl =\n",
              "          document.querySelector('#df-813bc235-5b52-45ab-b063-08989afcbbe5 button.colab-df-convert');\n",
              "        buttonEl.style.display =\n",
              "          google.colab.kernel.accessAllowed ? 'block' : 'none';\n",
              "\n",
              "        async function convertToInteractive(key) {\n",
              "          const element = document.querySelector('#df-813bc235-5b52-45ab-b063-08989afcbbe5');\n",
              "          const dataTable =\n",
              "            await google.colab.kernel.invokeFunction('convertToInteractive',\n",
              "                                                     [key], {});\n",
              "          if (!dataTable) return;\n",
              "\n",
              "          const docLinkHtml = 'Like what you see? Visit the ' +\n",
              "            '<a target=\"_blank\" href=https://colab.research.google.com/notebooks/data_table.ipynb>data table notebook</a>'\n",
              "            + ' to learn more about interactive tables.';\n",
              "          element.innerHTML = '';\n",
              "          dataTable['output_type'] = 'display_data';\n",
              "          await google.colab.output.renderOutput(dataTable, element);\n",
              "          const docLink = document.createElement('div');\n",
              "          docLink.innerHTML = docLinkHtml;\n",
              "          element.appendChild(docLink);\n",
              "        }\n",
              "      </script>\n",
              "    </div>\n",
              "  </div>\n",
              "  "
            ]
          },
          "metadata": {},
          "execution_count": 146
        }
      ]
    },
    {
      "cell_type": "code",
      "source": [
        "del input['Unnamed: 0']"
      ],
      "metadata": {
        "id": "gFSi_9Owx9ju"
      },
      "execution_count": 147,
      "outputs": []
    },
    {
      "cell_type": "code",
      "source": [
        "input.columns = ['Name','Gender']\n",
        "input['namelen']= [len(str(i)) for i in input['Name']]\n",
        "input1 = input[(input['namelen'] >= 2) ]"
      ],
      "metadata": {
        "id": "4QE0BcF3x-gB"
      },
      "execution_count": 148,
      "outputs": []
    },
    {
      "cell_type": "code",
      "source": [
        "names = input['Name']\n",
        "gender = input['Gender']\n",
        "vocab = set(' '.join([str(i) for i in names]))\n",
        "vocab.add('END')\n",
        "len_vocab = len(vocab)"
      ],
      "metadata": {
        "id": "Dxf7mBoSx_hL"
      },
      "execution_count": 149,
      "outputs": []
    },
    {
      "cell_type": "code",
      "source": [
        "char_index = dict((c, i) for i, c in enumerate(vocab))\n"
      ],
      "metadata": {
        "id": "PfKheWx1yA2L"
      },
      "execution_count": 150,
      "outputs": []
    },
    {
      "cell_type": "code",
      "source": [
        "msk = np.random.rand(len(input1)) < 0.8\n",
        "train = input1[msk]\n",
        "test = input1[~msk]  "
      ],
      "metadata": {
        "id": "oZvfginN6qRe"
      },
      "execution_count": 151,
      "outputs": []
    },
    {
      "cell_type": "code",
      "source": [
        "test"
      ],
      "metadata": {
        "colab": {
          "base_uri": "https://localhost:8080/",
          "height": 424
        },
        "id": "4Mltv3_B7m2P",
        "outputId": "99c96d4c-0f58-4933-a506-08e415ffebdc"
      },
      "execution_count": 152,
      "outputs": [
        {
          "output_type": "execute_result",
          "data": {
            "text/plain": [
              "                       Name Gender  namelen\n",
              "2          dương quang minh      m       16\n",
              "5          dương quốc phong      m       16\n",
              "6          dương quốc trung      m       16\n",
              "10         dương thanh tùng      m       16\n",
              "15          phạm hùng cường      m       15\n",
              "...                     ...    ...      ...\n",
              "63736      lưu thị hồng ánh      f       16\n",
              "63761    trần nho hải dương      m       18\n",
              "63763    trần phạm công huy      m       18\n",
              "63765    trần thị bích thuỷ      f       18\n",
              "63772  nguyễn thị xuân oanh      f       20\n",
              "\n",
              "[12588 rows x 3 columns]"
            ],
            "text/html": [
              "\n",
              "  <div id=\"df-625726f3-77cf-4f07-b0c7-8b0d09462e01\">\n",
              "    <div class=\"colab-df-container\">\n",
              "      <div>\n",
              "<style scoped>\n",
              "    .dataframe tbody tr th:only-of-type {\n",
              "        vertical-align: middle;\n",
              "    }\n",
              "\n",
              "    .dataframe tbody tr th {\n",
              "        vertical-align: top;\n",
              "    }\n",
              "\n",
              "    .dataframe thead th {\n",
              "        text-align: right;\n",
              "    }\n",
              "</style>\n",
              "<table border=\"1\" class=\"dataframe\">\n",
              "  <thead>\n",
              "    <tr style=\"text-align: right;\">\n",
              "      <th></th>\n",
              "      <th>Name</th>\n",
              "      <th>Gender</th>\n",
              "      <th>namelen</th>\n",
              "    </tr>\n",
              "  </thead>\n",
              "  <tbody>\n",
              "    <tr>\n",
              "      <th>2</th>\n",
              "      <td>dương quang minh</td>\n",
              "      <td>m</td>\n",
              "      <td>16</td>\n",
              "    </tr>\n",
              "    <tr>\n",
              "      <th>5</th>\n",
              "      <td>dương quốc phong</td>\n",
              "      <td>m</td>\n",
              "      <td>16</td>\n",
              "    </tr>\n",
              "    <tr>\n",
              "      <th>6</th>\n",
              "      <td>dương quốc trung</td>\n",
              "      <td>m</td>\n",
              "      <td>16</td>\n",
              "    </tr>\n",
              "    <tr>\n",
              "      <th>10</th>\n",
              "      <td>dương thanh tùng</td>\n",
              "      <td>m</td>\n",
              "      <td>16</td>\n",
              "    </tr>\n",
              "    <tr>\n",
              "      <th>15</th>\n",
              "      <td>phạm hùng cường</td>\n",
              "      <td>m</td>\n",
              "      <td>15</td>\n",
              "    </tr>\n",
              "    <tr>\n",
              "      <th>...</th>\n",
              "      <td>...</td>\n",
              "      <td>...</td>\n",
              "      <td>...</td>\n",
              "    </tr>\n",
              "    <tr>\n",
              "      <th>63736</th>\n",
              "      <td>lưu thị hồng ánh</td>\n",
              "      <td>f</td>\n",
              "      <td>16</td>\n",
              "    </tr>\n",
              "    <tr>\n",
              "      <th>63761</th>\n",
              "      <td>trần nho hải dương</td>\n",
              "      <td>m</td>\n",
              "      <td>18</td>\n",
              "    </tr>\n",
              "    <tr>\n",
              "      <th>63763</th>\n",
              "      <td>trần phạm công huy</td>\n",
              "      <td>m</td>\n",
              "      <td>18</td>\n",
              "    </tr>\n",
              "    <tr>\n",
              "      <th>63765</th>\n",
              "      <td>trần thị bích thuỷ</td>\n",
              "      <td>f</td>\n",
              "      <td>18</td>\n",
              "    </tr>\n",
              "    <tr>\n",
              "      <th>63772</th>\n",
              "      <td>nguyễn thị xuân oanh</td>\n",
              "      <td>f</td>\n",
              "      <td>20</td>\n",
              "    </tr>\n",
              "  </tbody>\n",
              "</table>\n",
              "<p>12588 rows × 3 columns</p>\n",
              "</div>\n",
              "      <button class=\"colab-df-convert\" onclick=\"convertToInteractive('df-625726f3-77cf-4f07-b0c7-8b0d09462e01')\"\n",
              "              title=\"Convert this dataframe to an interactive table.\"\n",
              "              style=\"display:none;\">\n",
              "        \n",
              "  <svg xmlns=\"http://www.w3.org/2000/svg\" height=\"24px\"viewBox=\"0 0 24 24\"\n",
              "       width=\"24px\">\n",
              "    <path d=\"M0 0h24v24H0V0z\" fill=\"none\"/>\n",
              "    <path d=\"M18.56 5.44l.94 2.06.94-2.06 2.06-.94-2.06-.94-.94-2.06-.94 2.06-2.06.94zm-11 1L8.5 8.5l.94-2.06 2.06-.94-2.06-.94L8.5 2.5l-.94 2.06-2.06.94zm10 10l.94 2.06.94-2.06 2.06-.94-2.06-.94-.94-2.06-.94 2.06-2.06.94z\"/><path d=\"M17.41 7.96l-1.37-1.37c-.4-.4-.92-.59-1.43-.59-.52 0-1.04.2-1.43.59L10.3 9.45l-7.72 7.72c-.78.78-.78 2.05 0 2.83L4 21.41c.39.39.9.59 1.41.59.51 0 1.02-.2 1.41-.59l7.78-7.78 2.81-2.81c.8-.78.8-2.07 0-2.86zM5.41 20L4 18.59l7.72-7.72 1.47 1.35L5.41 20z\"/>\n",
              "  </svg>\n",
              "      </button>\n",
              "      \n",
              "  <style>\n",
              "    .colab-df-container {\n",
              "      display:flex;\n",
              "      flex-wrap:wrap;\n",
              "      gap: 12px;\n",
              "    }\n",
              "\n",
              "    .colab-df-convert {\n",
              "      background-color: #E8F0FE;\n",
              "      border: none;\n",
              "      border-radius: 50%;\n",
              "      cursor: pointer;\n",
              "      display: none;\n",
              "      fill: #1967D2;\n",
              "      height: 32px;\n",
              "      padding: 0 0 0 0;\n",
              "      width: 32px;\n",
              "    }\n",
              "\n",
              "    .colab-df-convert:hover {\n",
              "      background-color: #E2EBFA;\n",
              "      box-shadow: 0px 1px 2px rgba(60, 64, 67, 0.3), 0px 1px 3px 1px rgba(60, 64, 67, 0.15);\n",
              "      fill: #174EA6;\n",
              "    }\n",
              "\n",
              "    [theme=dark] .colab-df-convert {\n",
              "      background-color: #3B4455;\n",
              "      fill: #D2E3FC;\n",
              "    }\n",
              "\n",
              "    [theme=dark] .colab-df-convert:hover {\n",
              "      background-color: #434B5C;\n",
              "      box-shadow: 0px 1px 3px 1px rgba(0, 0, 0, 0.15);\n",
              "      filter: drop-shadow(0px 1px 2px rgba(0, 0, 0, 0.3));\n",
              "      fill: #FFFFFF;\n",
              "    }\n",
              "  </style>\n",
              "\n",
              "      <script>\n",
              "        const buttonEl =\n",
              "          document.querySelector('#df-625726f3-77cf-4f07-b0c7-8b0d09462e01 button.colab-df-convert');\n",
              "        buttonEl.style.display =\n",
              "          google.colab.kernel.accessAllowed ? 'block' : 'none';\n",
              "\n",
              "        async function convertToInteractive(key) {\n",
              "          const element = document.querySelector('#df-625726f3-77cf-4f07-b0c7-8b0d09462e01');\n",
              "          const dataTable =\n",
              "            await google.colab.kernel.invokeFunction('convertToInteractive',\n",
              "                                                     [key], {});\n",
              "          if (!dataTable) return;\n",
              "\n",
              "          const docLinkHtml = 'Like what you see? Visit the ' +\n",
              "            '<a target=\"_blank\" href=https://colab.research.google.com/notebooks/data_table.ipynb>data table notebook</a>'\n",
              "            + ' to learn more about interactive tables.';\n",
              "          element.innerHTML = '';\n",
              "          dataTable['output_type'] = 'display_data';\n",
              "          await google.colab.output.renderOutput(dataTable, element);\n",
              "          const docLink = document.createElement('div');\n",
              "          docLink.innerHTML = docLinkHtml;\n",
              "          element.appendChild(docLink);\n",
              "        }\n",
              "      </script>\n",
              "    </div>\n",
              "  </div>\n",
              "  "
            ]
          },
          "metadata": {},
          "execution_count": 152
        }
      ]
    },
    {
      "cell_type": "code",
      "source": [
        "train"
      ],
      "metadata": {
        "colab": {
          "base_uri": "https://localhost:8080/",
          "height": 424
        },
        "id": "JrSn7m61M-G7",
        "outputId": "52e771be-a6cf-4838-802f-8b16fce6aa9f"
      },
      "execution_count": 153,
      "outputs": [
        {
          "output_type": "execute_result",
          "data": {
            "text/plain": [
              "                       Name Gender  namelen\n",
              "0          dương phương mai      f       16\n",
              "1          dương phương nam      m       16\n",
              "3          dương quang vinh      m       16\n",
              "4          dương quốc khánh      m       16\n",
              "7          dương thanh bình      m       16\n",
              "...                     ...    ...      ...\n",
              "63767    trần thị hương cúc      f       18\n",
              "63768   nguyễn thị thúy ưng      f       19\n",
              "63769   nguyễn đức anh linh      m       19\n",
              "63770  nguyễn thị thục oanh      f       20\n",
              "63771  nguyễn thị vân huyền      f       20\n",
              "\n",
              "[51185 rows x 3 columns]"
            ],
            "text/html": [
              "\n",
              "  <div id=\"df-81196b78-3848-41f5-8960-5e8ba1d7a24e\">\n",
              "    <div class=\"colab-df-container\">\n",
              "      <div>\n",
              "<style scoped>\n",
              "    .dataframe tbody tr th:only-of-type {\n",
              "        vertical-align: middle;\n",
              "    }\n",
              "\n",
              "    .dataframe tbody tr th {\n",
              "        vertical-align: top;\n",
              "    }\n",
              "\n",
              "    .dataframe thead th {\n",
              "        text-align: right;\n",
              "    }\n",
              "</style>\n",
              "<table border=\"1\" class=\"dataframe\">\n",
              "  <thead>\n",
              "    <tr style=\"text-align: right;\">\n",
              "      <th></th>\n",
              "      <th>Name</th>\n",
              "      <th>Gender</th>\n",
              "      <th>namelen</th>\n",
              "    </tr>\n",
              "  </thead>\n",
              "  <tbody>\n",
              "    <tr>\n",
              "      <th>0</th>\n",
              "      <td>dương phương mai</td>\n",
              "      <td>f</td>\n",
              "      <td>16</td>\n",
              "    </tr>\n",
              "    <tr>\n",
              "      <th>1</th>\n",
              "      <td>dương phương nam</td>\n",
              "      <td>m</td>\n",
              "      <td>16</td>\n",
              "    </tr>\n",
              "    <tr>\n",
              "      <th>3</th>\n",
              "      <td>dương quang vinh</td>\n",
              "      <td>m</td>\n",
              "      <td>16</td>\n",
              "    </tr>\n",
              "    <tr>\n",
              "      <th>4</th>\n",
              "      <td>dương quốc khánh</td>\n",
              "      <td>m</td>\n",
              "      <td>16</td>\n",
              "    </tr>\n",
              "    <tr>\n",
              "      <th>7</th>\n",
              "      <td>dương thanh bình</td>\n",
              "      <td>m</td>\n",
              "      <td>16</td>\n",
              "    </tr>\n",
              "    <tr>\n",
              "      <th>...</th>\n",
              "      <td>...</td>\n",
              "      <td>...</td>\n",
              "      <td>...</td>\n",
              "    </tr>\n",
              "    <tr>\n",
              "      <th>63767</th>\n",
              "      <td>trần thị hương cúc</td>\n",
              "      <td>f</td>\n",
              "      <td>18</td>\n",
              "    </tr>\n",
              "    <tr>\n",
              "      <th>63768</th>\n",
              "      <td>nguyễn thị thúy ưng</td>\n",
              "      <td>f</td>\n",
              "      <td>19</td>\n",
              "    </tr>\n",
              "    <tr>\n",
              "      <th>63769</th>\n",
              "      <td>nguyễn đức anh linh</td>\n",
              "      <td>m</td>\n",
              "      <td>19</td>\n",
              "    </tr>\n",
              "    <tr>\n",
              "      <th>63770</th>\n",
              "      <td>nguyễn thị thục oanh</td>\n",
              "      <td>f</td>\n",
              "      <td>20</td>\n",
              "    </tr>\n",
              "    <tr>\n",
              "      <th>63771</th>\n",
              "      <td>nguyễn thị vân huyền</td>\n",
              "      <td>f</td>\n",
              "      <td>20</td>\n",
              "    </tr>\n",
              "  </tbody>\n",
              "</table>\n",
              "<p>51185 rows × 3 columns</p>\n",
              "</div>\n",
              "      <button class=\"colab-df-convert\" onclick=\"convertToInteractive('df-81196b78-3848-41f5-8960-5e8ba1d7a24e')\"\n",
              "              title=\"Convert this dataframe to an interactive table.\"\n",
              "              style=\"display:none;\">\n",
              "        \n",
              "  <svg xmlns=\"http://www.w3.org/2000/svg\" height=\"24px\"viewBox=\"0 0 24 24\"\n",
              "       width=\"24px\">\n",
              "    <path d=\"M0 0h24v24H0V0z\" fill=\"none\"/>\n",
              "    <path d=\"M18.56 5.44l.94 2.06.94-2.06 2.06-.94-2.06-.94-.94-2.06-.94 2.06-2.06.94zm-11 1L8.5 8.5l.94-2.06 2.06-.94-2.06-.94L8.5 2.5l-.94 2.06-2.06.94zm10 10l.94 2.06.94-2.06 2.06-.94-2.06-.94-.94-2.06-.94 2.06-2.06.94z\"/><path d=\"M17.41 7.96l-1.37-1.37c-.4-.4-.92-.59-1.43-.59-.52 0-1.04.2-1.43.59L10.3 9.45l-7.72 7.72c-.78.78-.78 2.05 0 2.83L4 21.41c.39.39.9.59 1.41.59.51 0 1.02-.2 1.41-.59l7.78-7.78 2.81-2.81c.8-.78.8-2.07 0-2.86zM5.41 20L4 18.59l7.72-7.72 1.47 1.35L5.41 20z\"/>\n",
              "  </svg>\n",
              "      </button>\n",
              "      \n",
              "  <style>\n",
              "    .colab-df-container {\n",
              "      display:flex;\n",
              "      flex-wrap:wrap;\n",
              "      gap: 12px;\n",
              "    }\n",
              "\n",
              "    .colab-df-convert {\n",
              "      background-color: #E8F0FE;\n",
              "      border: none;\n",
              "      border-radius: 50%;\n",
              "      cursor: pointer;\n",
              "      display: none;\n",
              "      fill: #1967D2;\n",
              "      height: 32px;\n",
              "      padding: 0 0 0 0;\n",
              "      width: 32px;\n",
              "    }\n",
              "\n",
              "    .colab-df-convert:hover {\n",
              "      background-color: #E2EBFA;\n",
              "      box-shadow: 0px 1px 2px rgba(60, 64, 67, 0.3), 0px 1px 3px 1px rgba(60, 64, 67, 0.15);\n",
              "      fill: #174EA6;\n",
              "    }\n",
              "\n",
              "    [theme=dark] .colab-df-convert {\n",
              "      background-color: #3B4455;\n",
              "      fill: #D2E3FC;\n",
              "    }\n",
              "\n",
              "    [theme=dark] .colab-df-convert:hover {\n",
              "      background-color: #434B5C;\n",
              "      box-shadow: 0px 1px 3px 1px rgba(0, 0, 0, 0.15);\n",
              "      filter: drop-shadow(0px 1px 2px rgba(0, 0, 0, 0.3));\n",
              "      fill: #FFFFFF;\n",
              "    }\n",
              "  </style>\n",
              "\n",
              "      <script>\n",
              "        const buttonEl =\n",
              "          document.querySelector('#df-81196b78-3848-41f5-8960-5e8ba1d7a24e button.colab-df-convert');\n",
              "        buttonEl.style.display =\n",
              "          google.colab.kernel.accessAllowed ? 'block' : 'none';\n",
              "\n",
              "        async function convertToInteractive(key) {\n",
              "          const element = document.querySelector('#df-81196b78-3848-41f5-8960-5e8ba1d7a24e');\n",
              "          const dataTable =\n",
              "            await google.colab.kernel.invokeFunction('convertToInteractive',\n",
              "                                                     [key], {});\n",
              "          if (!dataTable) return;\n",
              "\n",
              "          const docLinkHtml = 'Like what you see? Visit the ' +\n",
              "            '<a target=\"_blank\" href=https://colab.research.google.com/notebooks/data_table.ipynb>data table notebook</a>'\n",
              "            + ' to learn more about interactive tables.';\n",
              "          element.innerHTML = '';\n",
              "          dataTable['output_type'] = 'display_data';\n",
              "          await google.colab.output.renderOutput(dataTable, element);\n",
              "          const docLink = document.createElement('div');\n",
              "          docLink.innerHTML = docLinkHtml;\n",
              "          element.appendChild(docLink);\n",
              "        }\n",
              "      </script>\n",
              "    </div>\n",
              "  </div>\n",
              "  "
            ]
          },
          "metadata": {},
          "execution_count": 153
        }
      ]
    },
    {
      "cell_type": "code",
      "source": [
        "train_X = []\n",
        "trunc_train_Name = [str(i)[0:30] for i in train.Name]\n",
        "for i in trunc_train_Name:\n",
        "    tmp = [char_index[j] for j in str(i)]\n",
        "    for k in range(0,maxlen - len(str(i))):\n",
        "        tmp.append(char_index[\"END\"])\n",
        "    train_X.append(tmp)"
      ],
      "metadata": {
        "id": "ZjDKTLo97np8"
      },
      "execution_count": 154,
      "outputs": []
    },
    {
      "cell_type": "code",
      "source": [
        "def set_flag(i):\n",
        "    tmp = np.zeros(108);\n",
        "    tmp[i] = 1\n",
        "    return(tmp)\n"
      ],
      "metadata": {
        "id": "d8Id5ifn7tCU"
      },
      "execution_count": 155,
      "outputs": []
    },
    {
      "cell_type": "code",
      "source": [
        "train_X = []\n",
        "train_Y = []\n",
        "trunc_train_name = [str(i)[0:maxlen] for i in train.Name]\n",
        "for i in trunc_train_Name:\n",
        "    tmp = [set_flag(char_index[j]) for j in str(i)]\n",
        "    for k in range(0,maxlen - len(str(i))):\n",
        "        tmp.append(set_flag(char_index[\"END\"]))\n",
        "    train_X.append(tmp)\n",
        "for i in train.Gender:\n",
        "    if i == 'm':\n",
        "        train_Y.append([1,0])\n",
        "    else:\n",
        "        train_Y.append([0,1])\n"
      ],
      "metadata": {
        "id": "IpEgSLwL7uL_"
      },
      "execution_count": 156,
      "outputs": []
    },
    {
      "cell_type": "code",
      "source": [
        "model = Sequential()\n",
        "model.add(LSTM(128, return_sequences=True, input_shape=(maxlen,len_vocab)))\n",
        "model.add(Dropout(0.2))\n",
        "model.add(LSTM(128, dropout=0.2, recurrent_dropout=0.2))\n",
        "model.add(Dense(2, activation='softmax'))\n",
        "\n",
        "model.add(Activation('softmax'))\n",
        "model.compile(loss='categorical_crossentropy', optimizer='adam',metrics=['accuracy'])\n"
      ],
      "metadata": {
        "id": "H0XGKK0Y7vNb"
      },
      "execution_count": 158,
      "outputs": []
    },
    {
      "cell_type": "code",
      "source": [
        "test_X = []\n",
        "test_Y = []\n",
        "trunc_test_Name = [str(i)[0:maxlen] for i in test.Name]\n",
        "for i in trunc_test_Name:\n",
        "    tmp = [set_flag(char_index[j]) for j in str(i)]\n",
        "    for k in range(0,maxlen - len(str(i))):\n",
        "        tmp.append(set_flag(char_index[\"END\"]))\n",
        "    test_X.append(tmp)\n",
        "for i in test.Gender:\n",
        "    if i == 'm':\n",
        "        test_Y.append([1,0])\n",
        "    else:\n",
        "        test_Y.append([0,1])\n"
      ],
      "metadata": {
        "id": "IeTetygm8PfC"
      },
      "execution_count": 159,
      "outputs": []
    },
    {
      "cell_type": "code",
      "source": [
        "train_X = np.array(train_X)\n",
        "train_Y = np.array(train_Y)\n",
        "test_X = np.array(test_X)\n",
        "test_Y = np.array(test_Y)\n"
      ],
      "metadata": {
        "id": "NOb3gq3F8Skb"
      },
      "execution_count": 160,
      "outputs": []
    },
    {
      "cell_type": "code",
      "source": [
        "batch_size=32\n",
        "model.fit(train_X, train_Y,batch_size=batch_size,epochs=5,validation_data=(test_X, test_Y))\n"
      ],
      "metadata": {
        "colab": {
          "base_uri": "https://localhost:8080/"
        },
        "id": "mxzaVzCQ8XIM",
        "outputId": "2c2d5138-cf53-4fa8-ad6f-2000ffb07064"
      },
      "execution_count": 161,
      "outputs": [
        {
          "output_type": "stream",
          "name": "stdout",
          "text": [
            "Epoch 1/5\n",
            "1600/1600 [==============================] - 195s 119ms/step - loss: 0.4537 - accuracy: 0.8512 - val_loss: 0.4268 - val_accuracy: 0.8823\n",
            "Epoch 2/5\n",
            "1600/1600 [==============================] - 188s 118ms/step - loss: 0.4109 - accuracy: 0.8980 - val_loss: 0.4011 - val_accuracy: 0.9070\n",
            "Epoch 3/5\n",
            "1600/1600 [==============================] - 188s 118ms/step - loss: 0.3905 - accuracy: 0.9199 - val_loss: 0.3826 - val_accuracy: 0.9281\n",
            "Epoch 4/5\n",
            "1600/1600 [==============================] - 188s 118ms/step - loss: 0.3776 - accuracy: 0.9335 - val_loss: 0.3770 - val_accuracy: 0.9326\n",
            "Epoch 5/5\n",
            "1600/1600 [==============================] - 188s 117ms/step - loss: 0.3720 - accuracy: 0.9395 - val_loss: 0.3809 - val_accuracy: 0.9299\n"
          ]
        },
        {
          "output_type": "execute_result",
          "data": {
            "text/plain": [
              "<keras.callbacks.History at 0x7f7a400b3510>"
            ]
          },
          "metadata": {},
          "execution_count": 161
        }
      ]
    },
    {
      "cell_type": "code",
      "source": [
        ""
      ],
      "metadata": {
        "id": "mOTAriOV8fyH"
      },
      "execution_count": 128,
      "outputs": []
    },
    {
      "cell_type": "code",
      "source": [
        "def gender(name):\n",
        "  X=[]\n",
        "  trunc = name\n",
        "  trunc_name = [i[0:maxlen] for i in name]\n",
        "  for i in trunc_name:\n",
        "    tmp = [set_flag(char_index[j]) for j in str(i)]\n",
        "    for k in range(0,maxlen - len(str(i))):\n",
        "        tmp.append(set_flag(char_index[\"END\"]))\n",
        "    X.append(tmp)\n",
        "  pred=model.predict(np.asarray(X))\n",
        "  a = 'thị'\n",
        "  print(pred[0])\n",
        "  if a in trunc:\n",
        "    return 'nữ'\n",
        "  if pred[0][0] > pred[0][1]:\n",
        "        return 'nam'\n",
        "  else:\n",
        "    return 'nữ'\n",
        "\n"
      ],
      "metadata": {
        "id": "QSR-J6kIAJzV"
      },
      "execution_count": 162,
      "outputs": []
    },
    {
      "cell_type": "code",
      "source": [
        "gender('trần thị my')"
      ],
      "metadata": {
        "colab": {
          "base_uri": "https://localhost:8080/",
          "height": 53
        },
        "id": "tQl3rWLo-BrD",
        "outputId": "f9493c2c-fb03-4bb3-997c-ff88a3f558f7"
      },
      "execution_count": 179,
      "outputs": [
        {
          "output_type": "stream",
          "name": "stdout",
          "text": [
            "[0.7310585  0.26894152]\n"
          ]
        },
        {
          "output_type": "execute_result",
          "data": {
            "text/plain": [
              "'nữ'"
            ],
            "application/vnd.google.colaboratory.intrinsic+json": {
              "type": "string"
            }
          },
          "metadata": {},
          "execution_count": 179
        }
      ]
    },
    {
      "cell_type": "code",
      "source": [
        "model.save_weights('./model.h5')\n"
      ],
      "metadata": {
        "id": "ASfY7Z91-tC7"
      },
      "execution_count": 169,
      "outputs": []
    },
    {
      "cell_type": "code",
      "source": [
        ""
      ],
      "metadata": {
        "id": "1En-H-KyTics"
      },
      "execution_count": null,
      "outputs": []
    }
  ]
}